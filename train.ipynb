{
 "cells": [
  {
   "cell_type": "code",
   "execution_count": 1,
   "metadata": {},
   "outputs": [],
   "source": [
    "import lzma\n",
    "import os\n",
    "import pickle\n",
    "\n",
    "import numpy as np\n",
    "from PIL import Image"
   ]
  },
  {
   "cell_type": "markdown",
   "metadata": {},
   "source": [
    "### File I/O"
   ]
  },
  {
   "cell_type": "code",
   "execution_count": 2,
   "metadata": {},
   "outputs": [],
   "source": [
    "def unpickle_data(file):\n",
    "    \"\"\"\n",
    "    Unpickle file using bz2 and pickle.\n",
    "    :param file: file path\n",
    "\n",
    "    :return: data from file\n",
    "    \"\"\"\n",
    "    if not os.path.exists(file):\n",
    "        return None\n",
    "    with lzma.open(file, 'rb') as fo:\n",
    "        return pickle.load(fo)\n",
    "    return"
   ]
  },
  {
   "cell_type": "code",
   "execution_count": 3,
   "metadata": {},
   "outputs": [
    {
     "name": "stdout",
     "output_type": "stream",
     "text": [
      "<class 'list'>\n",
      "<class 'int'>\n",
      "<class 'list'>\n",
      "<class 'numpy.ndarray'>\n",
      "(24, 24, 3)\n"
     ]
    }
   ],
   "source": [
    "data_path = 'data/dataset_compressed_1.pkl'\n",
    "dataset = unpickle_data(data_path)\n",
    "print(type(dataset['labels']))\n",
    "print(type(dataset['labels'][0]))\n",
    "print(type(dataset['data']))\n",
    "print(type(dataset['data'][0]))\n",
    "print((dataset['data'][0]).shape)"
   ]
  },
  {
   "cell_type": "markdown",
   "metadata": {},
   "source": [
    "### Dataset"
   ]
  },
  {
   "cell_type": "code",
   "execution_count": 4,
   "metadata": {},
   "outputs": [],
   "source": [
    "from src.reader import load_dataset, DigitDataset\n",
    "from torch.utils.data import DataLoader\n",
    "from torchvision import transforms"
   ]
  },
  {
   "cell_type": "code",
   "execution_count": 5,
   "metadata": {},
   "outputs": [],
   "source": [
    "\n",
    "base_path = 'data/dataset_compressed'\n",
    "start_idx = 1\n",
    "end_idx = 6\n",
    "X_train, Y_train, X_test, Y_test = load_dataset(base_path, start_idx, end_idx)\n"
   ]
  },
  {
   "cell_type": "code",
   "execution_count": 6,
   "metadata": {},
   "outputs": [],
   "source": [
    "\n",
    "# Define transformations (if needed)\n",
    "transform = transforms.Compose([\n",
    "    transforms.ToTensor(),\n",
    "    transforms.Normalize((0.5, 0.5, 0.5), (0.5, 0.5, 0.5))  # TODO: adjust\n",
    "])\n",
    "\n",
    "# Create PyTorch datasets\n",
    "train_dataset = DigitDataset(X_train, Y_train, transform=transform)\n",
    "test_dataset = DigitDataset(X_test, Y_test, transform=transform)\n",
    "\n",
    "# Data loaders for use in training and testing\n",
    "train_loader = DataLoader(train_dataset, batch_size=64, shuffle=True)\n",
    "test_loader = DataLoader(test_dataset, batch_size=64, shuffle=False)\n"
   ]
  },
  {
   "cell_type": "code",
   "execution_count": null,
   "metadata": {},
   "outputs": [],
   "source": [
    "# pick a random image from the dataset, and display it with its label usibg matplotlib\n",
    "import matplotlib.pyplot as plt\n",
    "import random\n",
    "\n",
    "idx = random.randint(0, len(train_dataset))\n",
    "img, label = train_dataset[idx]\n",
    "img = img.permute(1, 2, 0)\n",
    "plt.imshow(img)\n",
    "plt.title(f'Label: {label}')\n",
    "plt.show()\n"
   ]
  },
  {
   "cell_type": "markdown",
   "metadata": {},
   "source": [
    "### Model"
   ]
  },
  {
   "cell_type": "code",
   "execution_count": 8,
   "metadata": {},
   "outputs": [],
   "source": [
    "import torch\n",
    "import torch.nn as nn\n",
    "\n",
    "from src.model import NeuralNet"
   ]
  },
  {
   "cell_type": "markdown",
   "metadata": {},
   "source": [
    "### Trainer"
   ]
  },
  {
   "cell_type": "code",
   "execution_count": 9,
   "metadata": {},
   "outputs": [],
   "source": [
    "device = torch.device(\"cuda\" if torch.cuda.is_available() else \"cpu\")"
   ]
  },
  {
   "cell_type": "code",
   "execution_count": 10,
   "metadata": {},
   "outputs": [],
   "source": [
    "def train(model, train_loader, epochs=10):\n",
    "    # decay the learning rate by a factor of 0.1 every 30 epochs\n",
    "    scheduler = torch.optim.lr_scheduler.StepLR(model.optimizer, step_size=35, gamma=0.1)\n",
    "    model.train()  # Set the model to training mode\n",
    "    for epoch in range(epochs):\n",
    "        total_loss = 0\n",
    "        for images, labels in train_loader:\n",
    "            images, labels = images.to(device), labels.to(device).type(torch.long)\n",
    "            loss = model.step(images, labels)\n",
    "            total_loss += loss\n",
    "        print(f\"Epoch {epoch+1}, Loss: {total_loss/len(train_loader)}\")\n",
    "\n",
    "    # Update the learning rate scheduler\n",
    "    scheduler.step()\n"
   ]
  },
  {
   "cell_type": "code",
   "execution_count": null,
   "metadata": {},
   "outputs": [],
   "source": [
    "\n",
    "# Initialize the neural network\n",
    "lrate = 0.01  # Learning rate.\n",
    "\n",
    "# Loss function\n",
    "loss_fn = nn.CrossEntropyLoss()                 # Accuracy: 0.85733\n",
    "# loss_fn = nn.MultiMarginLoss()                 # Accuracy: 0.84667\n",
    "\n",
    "# Example of using the train function\n",
    "model = NeuralNet(lrate=0.01, loss_fn=loss_fn, in_size=3*24*24, out_size=10)\n",
    "model = model.to(device)\n",
    "\n",
    "train(model, train_loader, epochs=100)\n"
   ]
  },
  {
   "cell_type": "code",
   "execution_count": 15,
   "metadata": {},
   "outputs": [
    {
     "name": "stdout",
     "output_type": "stream",
     "text": [
      "Accuracy: 99.60000%\n",
      "Confusion Matrix:\n",
      "tensor([[ 939,    0,    0,    1,    0,    0,    1,    1,    1,    0],\n",
      "        [   0, 1231,    1,    1,    3,    2,    1,    1,    1,    0],\n",
      "        [   0,    0, 1071,    1,    0,    1,    0,    1,    0,    0],\n",
      "        [   0,    1,    0, 1028,    1,    0,    0,    2,    0,    1],\n",
      "        [   0,    1,    0,    0, 1225,    0,    0,    0,    0,    2],\n",
      "        [   0,    1,    2,    2,    1, 1116,    1,    1,    0,    0],\n",
      "        [   1,    1,    0,    1,    0,    0, 1229,    0,    1,    0],\n",
      "        [   0,    0,    1,    0,    1,    1,    0, 1129,    1,    0],\n",
      "        [   0,    0,    0,    1,    0,    0,    0,    0, 1070,    0],\n",
      "        [   0,    1,    1,    0,    0,    1,    0,    0,    0, 1167]],\n",
      "       dtype=torch.int32)\n"
     ]
    }
   ],
   "source": [
    "# Evaluate the model on the test set and Confusion Matrix\n",
    "def test(model, test_loader):\n",
    "    model.eval()  # Set the model to evaluation mode\n",
    "    correct = 0\n",
    "    total = 0\n",
    "    # confusion_matrix as int tensor\n",
    "    confusion_matrix = torch.zeros(10, 10, dtype=torch.int)\n",
    "    with torch.no_grad():\n",
    "        for images, labels in test_loader:\n",
    "            images, labels = images.to(device), labels.to(device)\n",
    "            outputs = model(images)\n",
    "            _, predicted = torch.max(outputs.data, 1)\n",
    "            total += labels.size(0)\n",
    "            correct += (predicted.type(torch.int64) == labels).sum().item()\n",
    "            for t, p in zip(labels.view(-1), predicted.view(-1)):\n",
    "                confusion_matrix[t.long(), p.long()] += 1\n",
    "\n",
    "    print(f\"Accuracy: {(correct / total) * 100:.5f}%\")\n",
    "    print(\"Confusion Matrix:\")\n",
    "    print(confusion_matrix)\n",
    "\n",
    "test(model, test_loader)"
   ]
  },
  {
   "cell_type": "code",
   "execution_count": 13,
   "metadata": {},
   "outputs": [],
   "source": [
    "# Save the model\n",
    "torch.save(model.state_dict(), 'data/model.pth')\n"
   ]
  }
 ],
 "metadata": {
  "kernelspec": {
   "display_name": "Python 3",
   "language": "python",
   "name": "python3"
  },
  "language_info": {
   "codemirror_mode": {
    "name": "ipython",
    "version": 3
   },
   "file_extension": ".py",
   "mimetype": "text/x-python",
   "name": "python",
   "nbconvert_exporter": "python",
   "pygments_lexer": "ipython3",
   "version": "3.11.8"
  }
 },
 "nbformat": 4,
 "nbformat_minor": 2
}
